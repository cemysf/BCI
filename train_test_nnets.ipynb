{
 "cells": [
  {
   "cell_type": "code",
   "execution_count": 29,
   "metadata": {},
   "outputs": [],
   "source": [
    "import numpy as np\n",
    "from sklearn.model_selection import train_test_split\n",
    "%matplotlib inline\n",
    "import matplotlib.pyplot as plt\n",
    "from keras.layers import Input, Dense, Convolution2D, MaxPooling2D, add, Flatten\n",
    "from keras.models import Model\n",
    "from keras.regularizers import l2\n",
    "from keras.utils import to_categorical\n",
    "from keras.optimizers import Adam\n",
    "from sklearn.metrics import confusion_matrix\n",
    "from sklearn.utils.multiclass import unique_labels\n",
    "from sklearn.metrics import accuracy_score, f1_score"
   ]
  },
  {
   "cell_type": "code",
   "execution_count": 2,
   "metadata": {},
   "outputs": [],
   "source": [
    "from mish import Mish"
   ]
  },
  {
   "cell_type": "markdown",
   "metadata": {},
   "source": [
    "# Load datasets, split, normalize etc.."
   ]
  },
  {
   "cell_type": "code",
   "execution_count": 3,
   "metadata": {},
   "outputs": [],
   "source": [
    "datasets = np.load(\"datasets.npy\")\n",
    "labels = np.load(\"labels.npy\")\n",
    "\n",
    "datasets_val = np.load(\"datasets_val.npy\")\n",
    "labels_val = np.load(\"labels_val.npy\")"
   ]
  },
  {
   "cell_type": "code",
   "execution_count": 4,
   "metadata": {},
   "outputs": [
    {
     "data": {
      "text/plain": [
       "(1052, 250, 16, 60)"
      ]
     },
     "execution_count": 4,
     "metadata": {},
     "output_type": "execute_result"
    }
   ],
   "source": [
    "datasets.shape"
   ]
  },
  {
   "cell_type": "code",
   "execution_count": 5,
   "metadata": {},
   "outputs": [],
   "source": [
    "X_train,X_test,y_train, y_test = train_test_split(datasets, labels, test_size=0.05,random_state=4242)"
   ]
  },
  {
   "cell_type": "code",
   "execution_count": 6,
   "metadata": {},
   "outputs": [],
   "source": [
    "# min-max normalization (can try other also..)\n",
    "\n",
    "def norm_dataset_minMax(dataset):\n",
    "    for i in range(len(dataset)):\n",
    "        d = dataset[i]\n",
    "        d = (d-d.min()) / (d.max()-d.min())\n",
    "        dataset[i] = d\n",
    "    return dataset\n",
    "\n",
    "def norm_dataset_meanStd(dataset):\n",
    "    for i in range(len(dataset)):\n",
    "        d = dataset[i]\n",
    "        d = (d-d.mean()) / d.std()\n",
    "        dataset[i] = d\n",
    "    return dataset"
   ]
  },
  {
   "cell_type": "code",
   "execution_count": 7,
   "metadata": {},
   "outputs": [],
   "source": [
    "def print_statistics(dataset):\n",
    "    print(\"min:{:.3f} max:{:.3f} mean:{:.3f} std:{:.3f}\".format(dataset.min(), dataset.max(), dataset.mean(), dataset.std()))"
   ]
  },
  {
   "cell_type": "code",
   "execution_count": 8,
   "metadata": {},
   "outputs": [],
   "source": [
    "X_train = norm_dataset_meanStd(X_train)\n",
    "X_test = norm_dataset_meanStd(X_test)\n",
    "X_val = norm_dataset_meanStd(datasets_val)"
   ]
  },
  {
   "cell_type": "code",
   "execution_count": 9,
   "metadata": {},
   "outputs": [
    {
     "name": "stdout",
     "output_type": "stream",
     "text": [
      "min:-1.547 max:74.888 mean:-0.000 std:1.000\n",
      "min:-1.376 max:62.494 mean:0.000 std:1.000\n",
      "min:-1.411 max:49.713 mean:-0.000 std:1.000\n"
     ]
    }
   ],
   "source": [
    "print_statistics(X_train)\n",
    "print_statistics(X_test)\n",
    "print_statistics(X_val)"
   ]
  },
  {
   "cell_type": "markdown",
   "metadata": {},
   "source": [
    "- Make channel the last axis"
   ]
  },
  {
   "cell_type": "code",
   "execution_count": 10,
   "metadata": {},
   "outputs": [],
   "source": [
    "X_train = np.swapaxes(X_train, -2, -1)\n",
    "X_test = np.swapaxes(X_test, -2, -1)\n",
    "X_val = np.swapaxes(X_val, -2, -1)"
   ]
  },
  {
   "cell_type": "code",
   "execution_count": 11,
   "metadata": {},
   "outputs": [
    {
     "data": {
      "text/plain": [
       "(53, 250, 60, 16)"
      ]
     },
     "execution_count": 11,
     "metadata": {},
     "output_type": "execute_result"
    }
   ],
   "source": [
    "X_test.shape"
   ]
  },
  {
   "cell_type": "markdown",
   "metadata": {},
   "source": [
    "- Labels to one hot"
   ]
  },
  {
   "cell_type": "code",
   "execution_count": 12,
   "metadata": {},
   "outputs": [],
   "source": [
    "def to_numericalLabel(x):\n",
    "    if x == \"left\":\n",
    "        return 0\n",
    "    elif x == \"none\":\n",
    "        return 1\n",
    "    elif x == \"right\":\n",
    "        return 2"
   ]
  },
  {
   "cell_type": "code",
   "execution_count": 13,
   "metadata": {},
   "outputs": [],
   "source": [
    "y_train = [to_numericalLabel(l) for l in y_train]\n",
    "y_test = [to_numericalLabel(l) for l in y_test]\n",
    "\n",
    "y_train = to_categorical(y_train)\n",
    "y_test = to_categorical(y_test)"
   ]
  },
  {
   "cell_type": "code",
   "execution_count": 14,
   "metadata": {},
   "outputs": [
    {
     "data": {
      "text/plain": [
       "array([[0., 1., 0.],\n",
       "       [0., 0., 1.],\n",
       "       [0., 1., 0.],\n",
       "       [0., 1., 0.],\n",
       "       [0., 1., 0.],\n",
       "       [0., 1., 0.],\n",
       "       [0., 1., 0.],\n",
       "       [1., 0., 0.],\n",
       "       [1., 0., 0.],\n",
       "       [0., 1., 0.]], dtype=float32)"
      ]
     },
     "execution_count": 14,
     "metadata": {},
     "output_type": "execute_result"
    }
   ],
   "source": [
    "y_train[:10]"
   ]
  },
  {
   "cell_type": "code",
   "execution_count": 15,
   "metadata": {},
   "outputs": [
    {
     "data": {
      "text/plain": [
       "array([[0., 1., 0.],\n",
       "       [1., 0., 0.],\n",
       "       [1., 0., 0.],\n",
       "       [1., 0., 0.],\n",
       "       [1., 0., 0.],\n",
       "       [0., 1., 0.],\n",
       "       [0., 0., 1.],\n",
       "       [0., 0., 1.],\n",
       "       [0., 0., 1.],\n",
       "       [0., 0., 1.]], dtype=float32)"
      ]
     },
     "execution_count": 15,
     "metadata": {},
     "output_type": "execute_result"
    }
   ],
   "source": [
    "y_test[:10]"
   ]
  },
  {
   "cell_type": "code",
   "execution_count": 16,
   "metadata": {},
   "outputs": [],
   "source": [
    "y_val = [to_numericalLabel(l) for l in labels_val]\n",
    "y_val = to_categorical(y_val)"
   ]
  },
  {
   "cell_type": "markdown",
   "metadata": {},
   "source": [
    "# Try #1: simple conv net"
   ]
  },
  {
   "cell_type": "markdown",
   "metadata": {},
   "source": [
    "- 2D conv and max poolings, with skip connections (add)\n",
    "- Dense at the end for classification"
   ]
  },
  {
   "cell_type": "code",
   "execution_count": 32,
   "metadata": {},
   "outputs": [],
   "source": [
    "input_img = Input(shape=(250,60,16))   ## 16 channels"
   ]
  },
  {
   "cell_type": "code",
   "execution_count": 33,
   "metadata": {},
   "outputs": [],
   "source": [
    "learning_rate = 5e-4  ## 1e-3 is default for adam\n",
    "reg_param = 1e-2"
   ]
  },
  {
   "cell_type": "code",
   "execution_count": 34,
   "metadata": {},
   "outputs": [],
   "source": [
    "def net_model(input_img):\n",
    "    conv1 = Convolution2D(32, (3,3), activation=\"Mish\", padding=\"same\", kernel_regularizer=l2(reg_param))(input_img)\n",
    "    # add1  \n",
    "    pool1 = MaxPooling2D((2,2), padding=\"same\")(conv1)\n",
    "    \n",
    "    conv2 = Convolution2D(32, (3,3), activation=\"Mish\", padding=\"same\", kernel_regularizer=l2(reg_param))(pool1)\n",
    "    add2 = add([pool1, conv2])\n",
    "    pool2 = MaxPooling2D((2,2), padding=\"same\")(add2)\n",
    "    \n",
    "    conv3 = Convolution2D(32, (3,3), activation=\"Mish\", padding=\"same\", kernel_regularizer=l2(reg_param))(pool2)\n",
    "    add3 = add([pool2, conv3])\n",
    "    pool3 = MaxPooling2D((2,2), padding=\"same\")(add3)\n",
    "    \n",
    "    conv4 = Convolution2D(32, (3,3), activation=\"Mish\", padding=\"same\", kernel_regularizer=l2(reg_param))(pool3)\n",
    "    add4 = add([pool3, conv4])\n",
    "    pool4 = MaxPooling2D((2,2), padding=\"same\")(add4)\n",
    "    \n",
    "    conv5 = Convolution2D(32, (3,3), activation=\"Mish\", padding=\"same\", kernel_regularizer=l2(reg_param))(pool4)\n",
    "    add5 = add([pool4, conv5])\n",
    "    pool5 = MaxPooling2D((2,2), padding=\"same\")(add5)\n",
    "    \n",
    "    flatten = Flatten()(add5)\n",
    "    #dense1 = Dense(256, activation=\"Mish\")(flatten)\n",
    "    #dense2 = Dense(32, activation=\"Mish\")(dense1)\n",
    "    preds = Dense(3, activation=\"softmax\")(flatten)\n",
    "    \n",
    "    return preds"
   ]
  },
  {
   "cell_type": "code",
   "execution_count": 35,
   "metadata": {},
   "outputs": [],
   "source": [
    "nnet = Model(inputs=input_img, outputs=net_model(input_img))"
   ]
  },
  {
   "cell_type": "code",
   "execution_count": 36,
   "metadata": {},
   "outputs": [
    {
     "name": "stdout",
     "output_type": "stream",
     "text": [
      "Model: \"model_2\"\n",
      "__________________________________________________________________________________________________\n",
      "Layer (type)                    Output Shape         Param #     Connected to                     \n",
      "==================================================================================================\n",
      "input_2 (InputLayer)            (None, 250, 60, 16)  0                                            \n",
      "__________________________________________________________________________________________________\n",
      "conv2d_6 (Conv2D)               (None, 250, 60, 32)  4640        input_2[0][0]                    \n",
      "__________________________________________________________________________________________________\n",
      "max_pooling2d_6 (MaxPooling2D)  (None, 125, 30, 32)  0           conv2d_6[0][0]                   \n",
      "__________________________________________________________________________________________________\n",
      "conv2d_7 (Conv2D)               (None, 125, 30, 32)  9248        max_pooling2d_6[0][0]            \n",
      "__________________________________________________________________________________________________\n",
      "add_5 (Add)                     (None, 125, 30, 32)  0           max_pooling2d_6[0][0]            \n",
      "                                                                 conv2d_7[0][0]                   \n",
      "__________________________________________________________________________________________________\n",
      "max_pooling2d_7 (MaxPooling2D)  (None, 63, 15, 32)   0           add_5[0][0]                      \n",
      "__________________________________________________________________________________________________\n",
      "conv2d_8 (Conv2D)               (None, 63, 15, 32)   9248        max_pooling2d_7[0][0]            \n",
      "__________________________________________________________________________________________________\n",
      "add_6 (Add)                     (None, 63, 15, 32)   0           max_pooling2d_7[0][0]            \n",
      "                                                                 conv2d_8[0][0]                   \n",
      "__________________________________________________________________________________________________\n",
      "max_pooling2d_8 (MaxPooling2D)  (None, 32, 8, 32)    0           add_6[0][0]                      \n",
      "__________________________________________________________________________________________________\n",
      "conv2d_9 (Conv2D)               (None, 32, 8, 32)    9248        max_pooling2d_8[0][0]            \n",
      "__________________________________________________________________________________________________\n",
      "add_7 (Add)                     (None, 32, 8, 32)    0           max_pooling2d_8[0][0]            \n",
      "                                                                 conv2d_9[0][0]                   \n",
      "__________________________________________________________________________________________________\n",
      "max_pooling2d_9 (MaxPooling2D)  (None, 16, 4, 32)    0           add_7[0][0]                      \n",
      "__________________________________________________________________________________________________\n",
      "conv2d_10 (Conv2D)              (None, 16, 4, 32)    9248        max_pooling2d_9[0][0]            \n",
      "__________________________________________________________________________________________________\n",
      "add_8 (Add)                     (None, 16, 4, 32)    0           max_pooling2d_9[0][0]            \n",
      "                                                                 conv2d_10[0][0]                  \n",
      "__________________________________________________________________________________________________\n",
      "flatten_2 (Flatten)             (None, 2048)         0           add_8[0][0]                      \n",
      "__________________________________________________________________________________________________\n",
      "dense_2 (Dense)                 (None, 3)            6147        flatten_2[0][0]                  \n",
      "==================================================================================================\n",
      "Total params: 47,779\n",
      "Trainable params: 47,779\n",
      "Non-trainable params: 0\n",
      "__________________________________________________________________________________________________\n"
     ]
    }
   ],
   "source": [
    "nnet.summary()"
   ]
  },
  {
   "cell_type": "code",
   "execution_count": 37,
   "metadata": {},
   "outputs": [],
   "source": [
    "nnet.compile(optimizer=Adam(lr=learning_rate), loss=\"categorical_crossentropy\", metrics=[\"accuracy\"])"
   ]
  },
  {
   "cell_type": "code",
   "execution_count": 38,
   "metadata": {},
   "outputs": [
    {
     "name": "stdout",
     "output_type": "stream",
     "text": [
      "Train on 999 samples, validate on 53 samples\n",
      "Epoch 1/50\n",
      "999/999 [==============================] - 17s 17ms/step - loss: 3.1340 - accuracy: 0.3534 - val_loss: 2.5861 - val_accuracy: 0.4340\n",
      "Epoch 2/50\n",
      "999/999 [==============================] - 17s 17ms/step - loss: 2.4655 - accuracy: 0.4875 - val_loss: 2.5292 - val_accuracy: 0.4906\n",
      "Epoch 3/50\n",
      "999/999 [==============================] - 19s 19ms/step - loss: 2.3267 - accuracy: 0.5666 - val_loss: 2.3891 - val_accuracy: 0.3962\n",
      "Epoch 4/50\n",
      "999/999 [==============================] - 21s 21ms/step - loss: 2.1721 - accuracy: 0.6186 - val_loss: 2.3609 - val_accuracy: 0.4151\n",
      "Epoch 5/50\n",
      "999/999 [==============================] - 21s 21ms/step - loss: 2.0605 - accuracy: 0.6817 - val_loss: 2.3059 - val_accuracy: 0.5472\n",
      "Epoch 6/50\n",
      "999/999 [==============================] - 21s 21ms/step - loss: 1.9565 - accuracy: 0.7247 - val_loss: 2.2523 - val_accuracy: 0.5094\n",
      "Epoch 7/50\n",
      "999/999 [==============================] - 21s 21ms/step - loss: 1.8642 - accuracy: 0.7477 - val_loss: 2.3795 - val_accuracy: 0.4906\n",
      "Epoch 8/50\n",
      "999/999 [==============================] - 22s 22ms/step - loss: 1.7659 - accuracy: 0.7828 - val_loss: 2.0648 - val_accuracy: 0.5094\n",
      "Epoch 9/50\n",
      "999/999 [==============================] - 21s 21ms/step - loss: 1.6996 - accuracy: 0.7918 - val_loss: 2.1412 - val_accuracy: 0.4151\n",
      "Epoch 10/50\n",
      "999/999 [==============================] - 21s 21ms/step - loss: 1.7006 - accuracy: 0.7698 - val_loss: 2.0887 - val_accuracy: 0.5283\n",
      "Epoch 11/50\n",
      "999/999 [==============================] - 21s 21ms/step - loss: 1.5257 - accuracy: 0.8819 - val_loss: 2.0092 - val_accuracy: 0.5849\n",
      "Epoch 12/50\n",
      "999/999 [==============================] - 21s 21ms/step - loss: 1.4590 - accuracy: 0.8839 - val_loss: 2.0219 - val_accuracy: 0.5283\n",
      "Epoch 13/50\n",
      "999/999 [==============================] - 21s 21ms/step - loss: 1.3878 - accuracy: 0.9099 - val_loss: 1.9607 - val_accuracy: 0.5472\n",
      "Epoch 14/50\n",
      "999/999 [==============================] - 21s 21ms/step - loss: 1.3103 - accuracy: 0.9349 - val_loss: 1.9491 - val_accuracy: 0.5849\n",
      "Epoch 15/50\n",
      "999/999 [==============================] - 21s 21ms/step - loss: 1.3654 - accuracy: 0.8659 - val_loss: 1.8709 - val_accuracy: 0.5472\n",
      "Epoch 16/50\n",
      "999/999 [==============================] - 21s 21ms/step - loss: 1.2550 - accuracy: 0.9279 - val_loss: 2.0366 - val_accuracy: 0.5660\n",
      "Epoch 17/50\n",
      "999/999 [==============================] - 20s 20ms/step - loss: 1.1963 - accuracy: 0.9429 - val_loss: 2.1585 - val_accuracy: 0.5849\n",
      "Epoch 18/50\n",
      "999/999 [==============================] - 21s 21ms/step - loss: 1.1255 - accuracy: 0.9750 - val_loss: 2.0433 - val_accuracy: 0.5472\n",
      "Epoch 19/50\n",
      "999/999 [==============================] - 21s 21ms/step - loss: 1.0958 - accuracy: 0.9710 - val_loss: 1.9887 - val_accuracy: 0.6226\n",
      "Epoch 20/50\n",
      "999/999 [==============================] - 21s 21ms/step - loss: 1.0298 - accuracy: 0.9890 - val_loss: 1.8445 - val_accuracy: 0.6226\n",
      "Epoch 21/50\n",
      "999/999 [==============================] - 21s 21ms/step - loss: 0.9840 - accuracy: 0.9910 - val_loss: 2.1092 - val_accuracy: 0.5094\n",
      "Epoch 22/50\n",
      "999/999 [==============================] - 21s 21ms/step - loss: 0.9516 - accuracy: 0.9940 - val_loss: 1.9623 - val_accuracy: 0.6038\n",
      "Epoch 23/50\n",
      "999/999 [==============================] - 21s 21ms/step - loss: 0.9439 - accuracy: 0.9790 - val_loss: 1.8351 - val_accuracy: 0.6038\n",
      "Epoch 24/50\n",
      "999/999 [==============================] - 21s 21ms/step - loss: 0.9123 - accuracy: 0.9910 - val_loss: 1.7453 - val_accuracy: 0.6981\n",
      "Epoch 25/50\n",
      "999/999 [==============================] - 21s 21ms/step - loss: 0.8768 - accuracy: 0.9930 - val_loss: 1.8839 - val_accuracy: 0.6226\n",
      "Epoch 26/50\n",
      "999/999 [==============================] - 21s 21ms/step - loss: 0.8578 - accuracy: 0.9930 - val_loss: 2.0378 - val_accuracy: 0.5849\n",
      "Epoch 27/50\n",
      "999/999 [==============================] - 21s 21ms/step - loss: 0.8601 - accuracy: 0.9810 - val_loss: 2.1030 - val_accuracy: 0.4906\n",
      "Epoch 28/50\n",
      "999/999 [==============================] - 21s 21ms/step - loss: 0.9804 - accuracy: 0.9069 - val_loss: 1.9581 - val_accuracy: 0.6226\n",
      "Epoch 29/50\n",
      "999/999 [==============================] - 21s 21ms/step - loss: 0.8434 - accuracy: 0.9840 - val_loss: 1.6174 - val_accuracy: 0.6415\n",
      "Epoch 30/50\n",
      "999/999 [==============================] - 21s 21ms/step - loss: 0.7778 - accuracy: 0.9980 - val_loss: 1.6972 - val_accuracy: 0.6604\n",
      "Epoch 31/50\n",
      "999/999 [==============================] - 21s 21ms/step - loss: 0.7467 - accuracy: 0.9990 - val_loss: 1.6132 - val_accuracy: 0.6038\n",
      "Epoch 32/50\n",
      "999/999 [==============================] - 21s 21ms/step - loss: 0.7287 - accuracy: 1.0000 - val_loss: 1.8634 - val_accuracy: 0.6604\n",
      "Epoch 33/50\n",
      "999/999 [==============================] - 21s 21ms/step - loss: 0.7087 - accuracy: 1.0000 - val_loss: 1.7936 - val_accuracy: 0.6226\n",
      "Epoch 34/50\n",
      "999/999 [==============================] - 21s 21ms/step - loss: 0.6838 - accuracy: 1.0000 - val_loss: 1.6540 - val_accuracy: 0.6415\n",
      "Epoch 35/50\n",
      "999/999 [==============================] - 22s 22ms/step - loss: 0.6663 - accuracy: 0.9990 - val_loss: 1.8528 - val_accuracy: 0.6226\n",
      "Epoch 36/50\n",
      "999/999 [==============================] - 21s 21ms/step - loss: 0.6467 - accuracy: 0.9990 - val_loss: 1.6618 - val_accuracy: 0.6604\n",
      "Epoch 37/50\n",
      "999/999 [==============================] - 21s 21ms/step - loss: 0.6385 - accuracy: 0.9950 - val_loss: 1.5993 - val_accuracy: 0.6415\n",
      "Epoch 38/50\n",
      "999/999 [==============================] - 21s 21ms/step - loss: 0.7089 - accuracy: 0.9650 - val_loss: 1.5298 - val_accuracy: 0.6415\n",
      "Epoch 39/50\n",
      "999/999 [==============================] - 21s 21ms/step - loss: 0.6575 - accuracy: 0.9820 - val_loss: 1.8452 - val_accuracy: 0.5094\n",
      "Epoch 40/50\n",
      "999/999 [==============================] - 21s 21ms/step - loss: 0.6187 - accuracy: 0.9920 - val_loss: 1.5886 - val_accuracy: 0.6415\n",
      "Epoch 41/50\n",
      "999/999 [==============================] - 22s 22ms/step - loss: 0.5981 - accuracy: 0.9930 - val_loss: 1.6700 - val_accuracy: 0.5849\n",
      "Epoch 42/50\n",
      "999/999 [==============================] - 21s 21ms/step - loss: 0.5698 - accuracy: 1.0000 - val_loss: 1.6604 - val_accuracy: 0.6038\n",
      "Epoch 43/50\n",
      "999/999 [==============================] - 21s 21ms/step - loss: 0.5557 - accuracy: 0.9990 - val_loss: 1.7552 - val_accuracy: 0.5849\n",
      "Epoch 44/50\n",
      "999/999 [==============================] - 21s 21ms/step - loss: 0.5420 - accuracy: 0.9990 - val_loss: 1.7287 - val_accuracy: 0.6226\n",
      "Epoch 45/50\n",
      "999/999 [==============================] - 21s 21ms/step - loss: 0.5424 - accuracy: 0.9950 - val_loss: 2.1250 - val_accuracy: 0.5849\n",
      "Epoch 46/50\n",
      "999/999 [==============================] - 22s 22ms/step - loss: 0.5871 - accuracy: 0.9700 - val_loss: 1.7103 - val_accuracy: 0.5849\n",
      "Epoch 47/50\n",
      "999/999 [==============================] - 22s 22ms/step - loss: 0.5319 - accuracy: 0.9970 - val_loss: 1.5476 - val_accuracy: 0.5849\n",
      "Epoch 48/50\n",
      "999/999 [==============================] - 21s 21ms/step - loss: 0.5075 - accuracy: 0.9980 - val_loss: 1.4982 - val_accuracy: 0.6038\n",
      "Epoch 49/50\n",
      "999/999 [==============================] - 21s 21ms/step - loss: 0.4914 - accuracy: 0.9990 - val_loss: 1.7249 - val_accuracy: 0.6415\n",
      "Epoch 50/50\n",
      "999/999 [==============================] - 21s 21ms/step - loss: 0.4798 - accuracy: 1.0000 - val_loss: 1.8127 - val_accuracy: 0.5849\n"
     ]
    },
    {
     "data": {
      "text/plain": [
       "<keras.callbacks.callbacks.History at 0x7f774859cda0>"
      ]
     },
     "execution_count": 38,
     "metadata": {},
     "output_type": "execute_result"
    }
   ],
   "source": [
    "nnet.fit(x=X_train, y=y_train, batch_size=32, epochs=50, validation_data=(X_test,y_test))"
   ]
  },
  {
   "cell_type": "markdown",
   "metadata": {},
   "source": [
    "### Check results"
   ]
  },
  {
   "cell_type": "code",
   "execution_count": 44,
   "metadata": {},
   "outputs": [],
   "source": [
    "### https://scikit-learn.org/stable/auto_examples/model_selection/plot_confusion_matrix.html\n",
    "\n",
    "def plot_confusion_matrix(y_true, y_pred, classes,\n",
    "                          normalize=False,\n",
    "                          title=None,\n",
    "                          cmap=plt.cm.Blues):\n",
    "    \"\"\"\n",
    "    This function prints and plots the confusion matrix.\n",
    "    Normalization can be applied by setting `normalize=True`.\n",
    "    \"\"\"\n",
    "    if not title:\n",
    "        if normalize:\n",
    "            title = 'Normalized confusion matrix'\n",
    "        else:\n",
    "            title = 'Confusion matrix, without normalization'\n",
    "\n",
    "    # Compute confusion matrix\n",
    "    cm = confusion_matrix(y_true, y_pred)\n",
    "    # Only use the labels that appear in the data\n",
    "    #classes = classes[unique_labels(y_true, y_pred)]\n",
    "    if normalize:\n",
    "        cm = cm.astype('float') / cm.sum(axis=1)[:, np.newaxis]\n",
    "        print(\"Normalized confusion matrix\")\n",
    "    else:\n",
    "        print('Confusion matrix, without normalization')\n",
    "\n",
    "    print(cm)\n",
    "\n",
    "    fig, ax = plt.subplots()\n",
    "    im = ax.imshow(cm, interpolation='nearest', cmap=cmap)\n",
    "    ax.figure.colorbar(im, ax=ax)\n",
    "    # We want to show all ticks...\n",
    "    ax.set(xticks=np.arange(cm.shape[1]),\n",
    "           yticks=np.arange(cm.shape[0]),\n",
    "           # ... and label them with the respective list entries\n",
    "           xticklabels=classes, yticklabels=classes,\n",
    "           title=title,\n",
    "           ylabel='True label',\n",
    "           xlabel='Predicted label')\n",
    "\n",
    "    # Rotate the tick labels and set their alignment.\n",
    "    plt.setp(ax.get_xticklabels(), rotation=45, ha=\"right\",\n",
    "             rotation_mode=\"anchor\")\n",
    "\n",
    "    # Loop over data dimensions and create text annotations.\n",
    "    fmt = '.4f' if normalize else 'd'\n",
    "    thresh = cm.max() / 2.\n",
    "    for i in range(cm.shape[0]):\n",
    "        for j in range(cm.shape[1]):\n",
    "            ax.text(j, i, format(cm[i, j], fmt),\n",
    "                    ha=\"center\", va=\"center\",\n",
    "                    color=\"white\" if cm[i, j] > thresh else \"black\")\n",
    "    fig.tight_layout()\n",
    "    return ax\n"
   ]
  },
  {
   "cell_type": "code",
   "execution_count": 45,
   "metadata": {},
   "outputs": [],
   "source": [
    "val_preds = nnet.predict(X_val)"
   ]
  },
  {
   "cell_type": "code",
   "execution_count": 46,
   "metadata": {},
   "outputs": [
    {
     "name": "stdout",
     "output_type": "stream",
     "text": [
      "Normalized confusion matrix\n",
      "[[0.42553191 0.21276596 0.36170213]\n",
      " [0.10638298 0.70212766 0.19148936]\n",
      " [0.29787234 0.36170213 0.34042553]]\n"
     ]
    },
    {
     "data": {
      "text/plain": [
       "<matplotlib.axes._subplots.AxesSubplot at 0x7f7732a06908>"
      ]
     },
     "execution_count": 46,
     "metadata": {},
     "output_type": "execute_result"
    },
    {
     "data": {
      "image/png": "[encoded data removed]",
      "text/plain": [
       "<Figure size 432x288 with 2 Axes>"
      ]
     },
     "metadata": {
      "needs_background": "light"
     },
     "output_type": "display_data"
    }
   ],
   "source": [
    "plot_confusion_matrix(y_val.argmax(axis=1), val_preds.argmax(axis=1), [\"left\",\"none\",\"right\"], normalize=True)"
   ]
  },
  {
   "cell_type": "code",
   "execution_count": 42,
   "metadata": {},
   "outputs": [],
   "source": [
    "acc = accuracy_score(y_val.argmax(axis=1), val_preds.argmax(axis=1))\n",
    "f1 = f1_score(y_val.argmax(axis=1), val_preds.argmax(axis=1) , average=\"weighted\")"
   ]
  },
  {
   "cell_type": "code",
   "execution_count": 43,
   "metadata": {},
   "outputs": [
    {
     "name": "stdout",
     "output_type": "stream",
     "text": [
      "accuracy:0.4894 f1:0.4805\n"
     ]
    }
   ],
   "source": [
    "print(\"accuracy:{:.4f} f1:{:.4f}\".format(acc, f1))"
   ]
  },
  {
   "cell_type": "code",
   "execution_count": null,
   "metadata": {},
   "outputs": [],
   "source": []
  },
  {
   "cell_type": "code",
   "execution_count": null,
   "metadata": {},
   "outputs": [],
   "source": []
  }
 ],
 "metadata": {
  "kernelspec": {
   "display_name": "Python 3",
   "language": "python",
   "name": "python3"
  },
  "language_info": {
   "codemirror_mode": {
    "name": "ipython",
    "version": 3
   },
   "file_extension": ".py",
   "mimetype": "text/x-python",
   "name": "python",
   "nbconvert_exporter": "python",
   "pygments_lexer": "ipython3",
   "version": "3.6.8"
  }
 },
 "nbformat": 4,
 "nbformat_minor": 2
}
