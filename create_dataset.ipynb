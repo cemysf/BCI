{
 "cells": [
  {
   "cell_type": "markdown",
   "metadata": {},
   "source": [
    "# create_inspect_dataset"
   ]
  },
  {
   "cell_type": "markdown",
   "metadata": {},
   "source": [
    "- Creating the dataset for future use, also checking some visualization and stuff"
   ]
  },
  {
   "cell_type": "code",
   "execution_count": 1,
   "metadata": {},
   "outputs": [],
   "source": [
    "import numpy as np\n",
    "%matplotlib inline\n",
    "import matplotlib.pyplot as plt\n",
    "import glob"
   ]
  },
  {
   "cell_type": "markdown",
   "metadata": {},
   "source": [
    "- I realized that there are some samples with 750 len, removing those"
   ]
  },
  {
   "cell_type": "code",
   "execution_count": 2,
   "metadata": {},
   "outputs": [],
   "source": [
    "def load_data_fromPath(path = \"model_data/data/left/*.npy\"):\n",
    "    \"\"\" output shape as: \n",
    "         (sample_idx, time, channel, freqs)\n",
    "         \n",
    "         ex: (360, 250, 16, 60) for dataset right\n",
    "    \"\"\"\n",
    "    \n",
    "    paths = glob.glob(path)\n",
    "    dataset = [np.load(path) for path in paths]\n",
    "\n",
    "    # some data has 750 len, remove these\n",
    "    data_toDel = [data for data in dataset if data.shape[0]!=250]\n",
    "    \n",
    "    for d in data_toDel:\n",
    "        dataset.remove(d)\n",
    "    print(\"deleted {} data\".format(len(data_toDel)))    \n",
    "    \n",
    "    dataset = np.concatenate(dataset, axis=0)\n",
    "    dataset = dataset.reshape(((len(paths)-len(data_toDel), 250, 16, 60)))\n",
    "    \n",
    "    return dataset\n",
    "    "
   ]
  },
  {
   "cell_type": "code",
   "execution_count": 3,
   "metadata": {},
   "outputs": [
    {
     "name": "stderr",
     "output_type": "stream",
     "text": [
      "/home/cya/anaconda3/envs/kaggle/lib/python3.6/site-packages/ipykernel_launcher.py:15: DeprecationWarning: elementwise comparison failed; this will raise an error in the future.\n",
      "  from ipykernel import kernelapp as app\n"
     ]
    },
    {
     "name": "stdout",
     "output_type": "stream",
     "text": [
      "deleted 6 data\n",
      "deleted 25 data\n",
      "deleted 6 data\n"
     ]
    }
   ],
   "source": [
    "dataset_left = load_data_fromPath(\"model_data/data/left/*.npy\")\n",
    "dataset_none = load_data_fromPath(\"model_data/data/none/*.npy\")\n",
    "dataset_right = load_data_fromPath(\"model_data/data/right/*.npy\")"
   ]
  },
  {
   "cell_type": "code",
   "execution_count": 4,
   "metadata": {},
   "outputs": [
    {
     "name": "stdout",
     "output_type": "stream",
     "text": [
      "deleted 0 data\n",
      "deleted 0 data\n",
      "deleted 0 data\n"
     ]
    }
   ],
   "source": [
    "dataset_left_val = load_data_fromPath(\"model_data/validation_data/left/*.npy\")\n",
    "dataset_none_val = load_data_fromPath(\"model_data/validation_data/none/*.npy\")\n",
    "dataset_right_val = load_data_fromPath(\"model_data/validation_data/right/*.npy\")"
   ]
  },
  {
   "cell_type": "markdown",
   "metadata": {},
   "source": [
    "- Create datasets and save them"
   ]
  },
  {
   "cell_type": "code",
   "execution_count": 5,
   "metadata": {},
   "outputs": [],
   "source": [
    "datasets = np.concatenate((dataset_left, dataset_none, dataset_right), axis=0)\n",
    "\n",
    "labels = np.concatenate((np.repeat(\"left\", len(dataset_left)),\n",
    "                         np.repeat(\"none\", len(dataset_none)),\n",
    "                         np.repeat(\"right\", len(dataset_right))),axis=0)"
   ]
  },
  {
   "cell_type": "code",
   "execution_count": 6,
   "metadata": {},
   "outputs": [],
   "source": [
    "datasets_val = np.concatenate((dataset_left_val, dataset_none_val, dataset_right_val), axis=0)\n",
    "\n",
    "labels_val = np.concatenate((np.repeat(\"left\", len(dataset_left_val)),\n",
    "                         np.repeat(\"none\", len(dataset_none_val)),\n",
    "                         np.repeat(\"right\", len(dataset_right_val))),axis=0)"
   ]
  },
  {
   "cell_type": "code",
   "execution_count": 7,
   "metadata": {},
   "outputs": [
    {
     "name": "stdout",
     "output_type": "stream",
     "text": [
      "(1052, 250, 16, 60)\n",
      "(1052,)\n",
      "(141, 250, 16, 60)\n",
      "(141,)\n"
     ]
    }
   ],
   "source": [
    "print(datasets.shape)\n",
    "print(labels.shape)\n",
    "print(datasets_val.shape)\n",
    "print(labels_val.shape)"
   ]
  },
  {
   "cell_type": "code",
   "execution_count": 8,
   "metadata": {},
   "outputs": [],
   "source": [
    "np.save(\"datasets.npy\",datasets)\n",
    "np.save(\"labels.npy\", labels)\n",
    "np.save(\"datasets_val.npy\",datasets_val)\n",
    "np.save(\"labels_val.npy\",labels_val)"
   ]
  },
  {
   "cell_type": "code",
   "execution_count": null,
   "metadata": {},
   "outputs": [],
   "source": []
  }
 ],
 "metadata": {
  "kernelspec": {
   "display_name": "Python 3",
   "language": "python",
   "name": "python3"
  },
  "language_info": {
   "codemirror_mode": {
    "name": "ipython",
    "version": 3
   },
   "file_extension": ".py",
   "mimetype": "text/x-python",
   "name": "python",
   "nbconvert_exporter": "python",
   "pygments_lexer": "ipython3",
   "version": "3.6.8"
  }
 },
 "nbformat": 4,
 "nbformat_minor": 2
}
